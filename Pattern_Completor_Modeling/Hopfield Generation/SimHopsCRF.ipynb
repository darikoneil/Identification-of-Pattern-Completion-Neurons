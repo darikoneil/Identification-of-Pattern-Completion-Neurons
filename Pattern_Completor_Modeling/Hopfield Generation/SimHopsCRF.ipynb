{
 "cells": [
  {
   "cell_type": "markdown",
   "metadata": {},
   "source": [
    "# Simple Script for Creating Hopfield Networks\n",
    "\n",
    "### Identification of Pattern Completion Neurons in Neuronal Ensembles using Probabilistic Graphical Models\n",
    "\n",
    "### Luis Carrillo-Reid, Shuting Han, Darik O'Neil, Ekaterina Taralova, Tony Jebara, Rafael Yuste\n",
    "\n",
    "#### Methods were based on the descriptions provided within the textbook Neuronal Dynamics by Wulfram Gerstner, Werner M. Kistler, Richard Naud, and Liam Paninski (Cambridge Press, 2014)."
   ]
  },
  {
   "cell_type": "code",
   "execution_count": 1,
   "metadata": {},
   "outputs": [],
   "source": [
    "#IMPORT CLASSES & FUNCTIONS\n",
    "from HopCRF.HopNet import HopNet\n",
    "from HopCRF.HopPat import HopPat\n",
    "from HopCRF.tools import tools\n",
    "import math"
   ]
  },
  {
   "cell_type": "code",
   "execution_count": 2,
   "metadata": {},
   "outputs": [],
   "source": [
    "#IMPORT NUMPY & H5PY FOR EXPORTING DATA\n",
    "import numpy as np\n",
    "import h5py"
   ]
  },
  {
   "cell_type": "code",
   "execution_count": 3,
   "metadata": {},
   "outputs": [],
   "source": [
    "#set params\n",
    "meanActivity = 7.5 #percent\n",
    "subgraphSize = 81 #must be a perfect square\n",
    "numSubgraphs = 10\n",
    "ensSubgraph = 10\n",
    "buffer_activity = tools.calculate_buffer(meanActivity, subgraphSize, numSubgraphs)\n"
   ]
  },
  {
   "cell_type": "code",
   "execution_count": 4,
   "metadata": {},
   "outputs": [],
   "source": [
    "#solve\n",
    "HopfieldNet = []\n",
    "Noise = []\n",
    "StateTemp = []\n",
    "StatesForCRFs = []\n",
    "\n",
    "for i in range(numSubgraphs):\n",
    "    hopfieldNet = HopNet(subgraphSize)\n",
    "    hopPatterns = HopPat(int(math.sqrt(subgraphSize)))\n",
    "    pattern_list = []\n",
    "    pattern_list.extend(hopPatterns.create_random_pattern_list(nr_patterns=10,on_probability=0.5))\n",
    "    hopfieldNet.store_pattern(pattern_list)\n",
    "    noise = []\n",
    "    stateTemp = []\n",
    "    statesForCRFs = []\n",
    "    STATES_FOR_CRFS = []\n",
    "    for i in range(ensSubgraph):\n",
    "        noisey = tools.get_noisy_copy(pattern_list[i],noise_level=0.2)\n",
    "        noise.append(noisey)\n",
    "        hopfieldNet.set_state_from_pattern(noisey)\n",
    "        STATES_TEMP = hopfieldNet.run(nr_steps=5)\n",
    "        stateTemp.append(STATES_TEMP)\n",
    "        STATES_FOR_CRFS = hopPatterns.reshape_patterns(STATES_TEMP)\n",
    "        statesForCRFs.append(STATES_FOR_CRFS)\n",
    "    HopfieldNet.append(hopfieldNet)\n",
    "    Noise.append(noise)\n",
    "    StateTemp.append(stateTemp)\n",
    "    StatesForCRFs.append(statesForCRFs)"
   ]
  },
  {
   "cell_type": "code",
   "execution_count": 5,
   "metadata": {},
   "outputs": [],
   "source": [
    "#Save for importing to MATLAB\n",
    "f = h5py.File(\"SIM_MODEL_CRF2.hdf5\", \"w\")\n",
    "f.create_dataset(\"StatesForCRFs\",data=StatesForCRFs)\n",
    "f.create_dataset(\"Noise\",data=Noise)\n",
    "f.create_dataset(\"StateTemp\",data=StateTemp)\n",
    "for i in range(0,(len(HopfieldNet)-1)):\n",
    "    weightnum = str(i)\n",
    "    f.create_dataset(weightnum, data=HopfieldNet[i].weights)\n",
    "f.close()"
   ]
  }
 ],
 "metadata": {
  "kernelspec": {
   "display_name": "Python 3",
   "language": "python",
   "name": "python3"
  },
  "language_info": {
   "codemirror_mode": {
    "name": "ipython",
    "version": 3
   },
   "file_extension": ".py",
   "mimetype": "text/x-python",
   "name": "python",
   "nbconvert_exporter": "python",
   "pygments_lexer": "ipython3",
   "version": "3.6.12"
  }
 },
 "nbformat": 4,
 "nbformat_minor": 4
}
